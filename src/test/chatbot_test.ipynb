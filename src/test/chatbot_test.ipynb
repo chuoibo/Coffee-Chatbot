{
 "cells": [
  {
   "cell_type": "code",
   "execution_count": 10,
   "metadata": {},
   "outputs": [],
   "source": [
    "import os\n",
    "import time\n",
    "\n",
    "from openai import OpenAI\n",
    "from dotenv import load_dotenv\n",
    "\n",
    "load_dotenv()\n",
    "\n",
    "MODEL_NAME = os.getenv(\"MODEL_NAME\")\n",
    "RUNPOD_TOKEN = os.getenv(\"RUNPOD_TOKEN\")\n",
    "RUNPOD_URL = os.getenv(\"RUNPOD_URL\")\n",
    "\n",
    "\n"
   ]
  },
  {
   "cell_type": "code",
   "execution_count": 2,
   "metadata": {},
   "outputs": [
    {
     "data": {
      "text/plain": [
       "('meta-llama/Llama-3.2-1B-Instruct',\n",
       " 'rpa_0DUW3JIK2N4I51QZXNXRLHAUPFPNUF56I26FRW6O19e0zj',\n",
       " 'https://api.runpod.ai/v2/gbh9r4uu19q04i/openai/v1')"
      ]
     },
     "execution_count": 2,
     "metadata": {},
     "output_type": "execute_result"
    }
   ],
   "source": [
    "MODEL_NAME, RUNPOD_TOKEN, RUNPOD_URL"
   ]
  },
  {
   "cell_type": "code",
   "execution_count": 3,
   "metadata": {},
   "outputs": [],
   "source": [
    "client = OpenAI(\n",
    "    api_key=RUNPOD_TOKEN,\n",
    "    base_url=RUNPOD_URL\n",
    ")"
   ]
  },
  {
   "cell_type": "code",
   "execution_count": 7,
   "metadata": {},
   "outputs": [],
   "source": [
    "def get_chatbot_response(client: OpenAI, model_name, messages):\n",
    "    input_messages = []\n",
    "    for message in messages:\n",
    "        input_messages.append({\"role\": message['role'], \"content\": message['content']})\n",
    "    \n",
    "    response = client.chat.completions.create(\n",
    "        model = model_name,\n",
    "        messages = input_messages,\n",
    "        temperature = 0,\n",
    "        top_p = 0.8,\n",
    "        max_tokens = 2000\n",
    "    ).choices[0].message.content\n",
    "\n",
    "    return response"
   ]
  },
  {
   "cell_type": "code",
   "execution_count": 11,
   "metadata": {},
   "outputs": [
    {
     "name": "stdout",
     "output_type": "stream",
     "text": [
      "Inference time: 1.9564154148101807s\n"
     ]
    },
    {
     "data": {
      "text/plain": [
       "'I think there might be some confusion. Spain is a country, not a state, and it does not have a capital city. The capital of Spain is Madrid.'"
      ]
     },
     "execution_count": 11,
     "metadata": {},
     "output_type": "execute_result"
    }
   ],
   "source": [
    "messages = [{'role': 'user', 'content': \"What's the capital of Span ?\"}]\n",
    "\n",
    "start_time = time.time()\n",
    "response = get_chatbot_response(client=client, model_name=MODEL_NAME, messages=messages)\n",
    "end_time = time.time()\n",
    "\n",
    "\n",
    "print(f\"Inference time: {end_time-start_time}s\")\n",
    "response"
   ]
  },
  {
   "cell_type": "code",
   "execution_count": 12,
   "metadata": {},
   "outputs": [],
   "source": [
    "iphone_16 = \"\"\"\n",
    "The iPhone 16 introduces several exciting updates, making it one of Apple's most advanced smartphones to date. It features a larger 6.1-inch display for the base model and a 6.7-inch screen for the iPhone 16 Plus, with thinner bezels and a more durable Ceramic Shield. The iPhone 16 Pro and Pro Max boast even larger displays, measuring 6.3 and 6.9 inches respectively, offering the thinnest bezels seen on any Apple product so far.\n",
    "\n",
    "Powered by the new A18 chip (A18 Pro for the Pro models), these phones deliver significant performance improvements, with enhanced neural engine capabilities, faster GPU for gaming, and machine learning tasks. The camera systems are also upgraded, with the base iPhone 16 sporting a dual-camera setup with a 48MP main sensor. The Pro models offer a 48MP Ultra Wide and 5x telephoto camera, enhanced by Apple’s \"Camera Control\" button for more flexible photography options.\n",
    "\n",
    "Apple also introduced advanced audio features like \"Audio Mix,\" which uses machine learning to separate background sounds from speech, allowing for more refined audio capture during video recording. Battery life has been extended, especially in the iPhone 16 Pro Max, which is claimed to have the longest-lasting battery of any iPhone \n",
    "9TO5MAC\n",
    "\n",
    "APPLEMAGAZINE\n",
    ".\n",
    "\n",
    "Additionally, Apple has switched to USB-C for faster charging and data transfer, and the Pro models now support up to 2x faster video encoding. The starting prices remain consistent with previous generations, with the iPhone 16 starting at $799, while the Pro models start at $999\n",
    "\"\"\""
   ]
  },
  {
   "cell_type": "code",
   "execution_count": 13,
   "metadata": {},
   "outputs": [
    {
     "name": "stdout",
     "output_type": "stream",
     "text": [
      "The iPhone 16 introduces several exciting updates, including:\n",
      "\n",
      "1. Larger displays:\n",
      "   - 6.1-inch base model display\n",
      "   - 6.7-inch display for the iPhone 16 Plus\n",
      "   - Thinner bezels and a more durable Ceramic Shield\n",
      "\n",
      "2. Performance improvements:\n",
      "   - Powered by the new A18 chip (A18 Pro for the Pro models)\n",
      "   - Enhanced neural engine capabilities\n",
      "   - Faster GPU for gaming\n",
      "   - Machine learning tasks\n",
      "\n",
      "3. Camera upgrades:\n",
      "   - Dual-camera setup with a 48MP main sensor (base iPhone 16)\n",
      "   - 48MP Ultra Wide and 5x telephoto camera (Pro models)\n",
      "   - \"Camera Control\" button for more flexible photography options\n",
      "\n",
      "4. Advanced audio features:\n",
      "   - \"Audio Mix\" using machine learning to separate background sounds from speech\n",
      "   - Refined audio capture during video recording\n",
      "\n",
      "5. Battery life:\n",
      "   - Extended battery life, especially in the iPhone 16 Pro Max\n",
      "\n",
      "6. USB-C charging and data transfer:\n",
      "   - Faster charging and data transfer\n",
      "   - Support for up to 2x faster video encoding\n",
      "\n",
      "7. Starting prices:\n",
      "   - iPhone 16 starts at $799\n",
      "   - iPhone 16 Pro models start at $999\n"
     ]
    }
   ],
   "source": [
    "user_prompt = f\"\"\"\n",
    "{iphone_16}\n",
    "\n",
    "What's new in iphone 16?\n",
    "\"\"\"\n",
    "\n",
    "messages = [{'role':'user','content':user_prompt}]\n",
    "response = get_chatbot_response(client,MODEL_NAME,messages)\n",
    "print(response)"
   ]
  },
  {
   "cell_type": "code",
   "execution_count": 18,
   "metadata": {},
   "outputs": [],
   "source": [
    "samsung_s23 = \"\"\"\n",
    "The Samsung Galaxy S23 brings some incremental but notable upgrades to its predecessor, the Galaxy S22. It features the Snapdragon 8 Gen 2 processor, a powerful chip optimized for the S23 series, delivering enhanced performance, especially for gaming and multitasking. This chip ensures top-tier speed and efficiency across all models, from the base S23 to the larger S23+ and S23 Ultra​\n",
    "STUFF\n",
    "\n",
    "TECHRADAR\n",
    ".\n",
    "\n",
    "In terms of design, the S23's camera module has been streamlined by removing the raised metal contour around the cameras, creating a cleaner, sleeker look. It also sports the same 6.1-inch 120Hz AMOLED display, protected by tougher Gorilla Glass Victus 2, making it more resistant to scratches and drops​\n",
    "TECHRADAR\n",
    ".\n",
    "\n",
    "The S23 Ultra stands out with its 200MP main camera, offering impressive photo clarity, especially in low-light conditions. The selfie camera across the series has been updated to a 12MP sensor, resulting in sharper selfies. The Ultra model also includes productivity tools such as the S-Pen, which remains an essential feature for note-taking and creative tasks​\n",
    "STUFF\n",
    "\n",
    "TECHRADAR\n",
    ".\n",
    "\n",
    "Battery life is solid, with the S23 Ultra featuring a 5000mAh battery that lasts comfortably through a day of heavy use. However, charging speeds still lag behind some competitors, with 45W wired charging, which is slower than other brands offering up to 125W charging​\n",
    "STUFF\n",
    ".\n",
    "\n",
    "Overall, the Galaxy S23 series enhances performance, durability, and camera quality, making it a strong contender for users seeking a high-performance flagship.\n",
    "\"\"\"\n"
   ]
  },
  {
   "cell_type": "code",
   "execution_count": 20,
   "metadata": {},
   "outputs": [
    {
     "name": "stdout",
     "output_type": "stream",
     "text": [
      "User prompt: What's new in iphone 16?\n",
      "Best match document: iphone_16\n",
      "Similarity score: 0.6883\n"
     ]
    }
   ],
   "source": [
    "from sentence_transformers import SentenceTransformer, util\n",
    "\n",
    "data = [\"iphone_16\", \"samsung_s23\"]\n",
    "user_prompt = \"What's new in iphone 16?\"\n",
    "\n",
    "# Load the model\n",
    "model = SentenceTransformer('sentence-transformers/all-MiniLM-L6-v2')\n",
    "\n",
    "# Encode data and prompt\n",
    "doc_embeddings = model.encode(data, convert_to_tensor=True)\n",
    "prompt_embedding = model.encode(user_prompt, convert_to_tensor=True)\n",
    "\n",
    "# Calculate cosine similarities\n",
    "cosine_scores = util.cos_sim(prompt_embedding, doc_embeddings)\n",
    "\n",
    "# Find the best match\n",
    "best_match_idx = cosine_scores.argmax().item()\n",
    "best_match_doc = data[best_match_idx]\n",
    "best_score = cosine_scores[0, best_match_idx].item()\n",
    "\n",
    "print(f\"User prompt: {user_prompt}\")\n",
    "print(f\"Best match document: {best_match_doc}\")\n",
    "print(f\"Similarity score: {best_score:.4f}\")\n"
   ]
  },
  {
   "cell_type": "code",
   "execution_count": null,
   "metadata": {},
   "outputs": [],
   "source": []
  }
 ],
 "metadata": {
  "kernelspec": {
   "display_name": "base",
   "language": "python",
   "name": "python3"
  },
  "language_info": {
   "codemirror_mode": {
    "name": "ipython",
    "version": 3
   },
   "file_extension": ".py",
   "mimetype": "text/x-python",
   "name": "python",
   "nbconvert_exporter": "python",
   "pygments_lexer": "ipython3",
   "version": "3.12.2"
  }
 },
 "nbformat": 4,
 "nbformat_minor": 2
}
